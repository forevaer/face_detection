{
 "cells": [
  {
   "cell_type": "code",
   "execution_count": 2,
   "metadata": {},
   "outputs": [],
   "source": [
    "import cv2\n",
    "import sys\n",
    "import os\n",
    "import numpy as np\n",
    "import matplotlib.pyplot as plt\n",
    "import random\n",
    "from PIL import Image\n",
    "from core.utils import IoU, assemble_data, convert_to_square\n",
    "from core.models import creat_mtcnn_net\n",
    "from core.utils import generate_bounding_box, nms\n",
    "from core.detect import detect_pnet, detect_rnet\n",
    "\n",
    "import os\n",
    "os.environ[\"KMP_DUPLICATE_LIB_OK\"]=\"TRUE\""
   ]
  },
  {
   "cell_type": "code",
   "execution_count": 6,
   "metadata": {},
   "outputs": [],
   "source": [
    "anno_file = '/Users/shaotianyuan/DATA/WIDER/wider_face_split/wider_face_train_bbx_gt.txt'\n",
    "im_dir = '/Users/shaotianyuan/DATA/WIDER/WIDER_train/images'\n",
    "\n",
    "pos_save_dir = './data_set/train/48/positive'\n",
    "part_save_dir = './data_set/train/48/part'\n",
    "neg_save_dir = './data_set/train/48/negative'\n",
    "\n",
    "if not os.path.exists(pos_save_dir):\n",
    "    os.makedirs(pos_save_dir)\n",
    "if not os.path.exists(part_save_dir):\n",
    "    os.mkdir(part_save_dir)\n",
    "if not os.path.exists(neg_save_dir):\n",
    "    os.mkdir(neg_save_dir)\n",
    "    \n",
    "f1 = open(os.path.join('./anno_store', 'pos_48.txt'), 'w')\n",
    "f2 = open(os.path.join('./anno_store', 'neg_48.txt'), 'w')\n",
    "f3 = open(os.path.join('./anno_store', 'part_48.txt'), 'w')\n",
    "\n",
    "\n",
    "p_idx = 0\n",
    "n_idx = 0\n",
    "d_idx = 0\n",
    "image_idx = 0\n",
    "box_idx = 0\n",
    "\n",
    "pnet_path = '/Users/shaotianyuan/PycharmProjects/face_detection/mtcnn/model_store/pnet.pkl'\n",
    "rnet_path = '/Users/shaotianyuan/PycharmProjects/face_detection/mtcnn/model_store/rnet.pkl'"
   ]
  },
  {
   "cell_type": "code",
   "execution_count": 7,
   "metadata": {},
   "outputs": [
    {
     "name": "stdout",
     "output_type": "stream",
     "text": [
      "12880\n",
      "[['0--Parade/0_Parade_marchingband_1_849.jpg', 1, 449, 330, 122, 149], ['0--Parade/0_Parade_Parade_0_904.jpg', 1, 361, 98, 263, 339]]\n"
     ]
    }
   ],
   "source": [
    "with open(anno_file) as f:\n",
    "    annotations = f.readlines()\n",
    "\n",
    "n = -1\n",
    "lines = []\n",
    "for annotation in annotations:\n",
    "    annotation = annotation.strip().split(' ')\n",
    "    if annotation[0][-3:] == 'jpg':\n",
    "        lines.append(annotation)\n",
    "        n += 1\n",
    "    else:\n",
    "        annotation = list(map(int, annotation))\n",
    "        lines[n].extend(annotation[:4])\n",
    "print(len(lines))\n",
    "print(lines[:2])"
   ]
  },
  {
   "cell_type": "code",
   "execution_count": 8,
   "metadata": {},
   "outputs": [
    {
     "name": "stdout",
     "output_type": "stream",
     "text": [
      "10 images done\n",
      "20 images done\n",
      "30 images done\n",
      "40 images done\n",
      "50 images done\n",
      "60 images done\n",
      "70 images done\n",
      "80 images done\n",
      "90 images done\n",
      "100 images done\n",
      "110 images done\n",
      "120 images done\n",
      "130 images done\n",
      "140 images done\n",
      "150 images done\n",
      "160 images done\n",
      "170 images done\n",
      "180 images done\n",
      "190 images done\n",
      "200 images done\n",
      "\n",
      "200 images done, pos: 2589 part: 5454 neg: 8883\n"
     ]
    }
   ],
   "source": [
    "for annotation in lines[:200]:\n",
    "    im_path = os.path.join(im_dir, annotation[0])\n",
    "    bbox = list(map(float, annotation[2:]))\n",
    "    boxes = np.array(bbox, dtype=np.int32).reshape(-1, 4)\n",
    "    boxes[:, 2] += boxes[:, 0] - 1\n",
    "    boxes[:, 3] += boxes[:, 1] - 1\n",
    "    \n",
    "    img = np.array(Image.open(im_path).convert('RGB'))\n",
    "    gts = boxes\n",
    "    _, p_boxes_align = detect_pnet(img, pnet_path)\n",
    "    _, dets = detect_rnet(img, p_boxes_align, rnet_path)\n",
    "    \n",
    "    image_idx += 1\n",
    "    if image_idx % 10 == 0:\n",
    "        print(image_idx, \"images done\")\n",
    "    \n",
    "    if dets is None or dets.shape[0] == 0:\n",
    "        continue\n",
    "  \n",
    "    dets = convert_to_square(dets)\n",
    "    dets[:, :4] = np.round(dets[:, :4])\n",
    "    \n",
    "    neg_num = 0\n",
    "    \n",
    "    for box in dets:\n",
    "        x_left, y_top, x_right, y_bottom, _ = box.astype(int)\n",
    "        width = x_right - x_left + 1\n",
    "        height = y_bottom - y_top + 1\n",
    "        \n",
    "        if width < 20 or x_left < 0 or y_top < 0 or x_right > img.shape[1] - 1 or y_bottom > img.shape[0] - 1:\n",
    "            continue\n",
    "            \n",
    "        Iou = IoU(box, gts)\n",
    "        cropped_im = img[y_top:y_bottom + 1, x_left:x_right + 1, :]\n",
    "        resized_im = cv2.resize(cropped_im, (48, 48), interpolation=cv2.INTER_LINEAR)\n",
    "        \n",
    "        if np.max(Iou) < 0.3 and neg_num < 60:\n",
    "            # save the examples\n",
    "            save_file = os.path.join(neg_save_dir, \"%s.jpg\" % n_idx)\n",
    "            # print(save_file)\n",
    "            f2.write(save_file + ' 0 %.2f %.2f %.2f %.2f\\n' % (0, 0, 0, 0))\n",
    "            img_save = Image.fromarray(resized_im)\n",
    "            img_save.save(save_file)\n",
    "            n_idx += 1\n",
    "            neg_num += 1\n",
    "        else:\n",
    "            # find gt_box with the highest iou\n",
    "            idx = np.argmax(Iou)\n",
    "            x1, y1, x2, y2 = gts[idx]\n",
    "\n",
    "            # compute bbox reg label\n",
    "            offset_x1 = (x1 - x_left) / float(width)\n",
    "            offset_y1 = (y1 - y_top) / float(height)\n",
    "            offset_x2 = (x2 - x_right) / float(width)\n",
    "            offset_y2 = (y2 - y_bottom) / float(height)\n",
    "\n",
    "            # save positive and part-face images and write labels\n",
    "            if np.max(Iou) >= 0.65:\n",
    "                save_file = os.path.join(pos_save_dir, \"%s.jpg\" % p_idx)\n",
    "                f1.write(save_file + ' 1 %.2f %.2f %.2f %.2f\\n' % (\n",
    "                    offset_x1, offset_y1, offset_x2, offset_y2))\n",
    "                img_save = Image.fromarray(resized_im)\n",
    "                img_save.save(save_file)\n",
    "                p_idx += 1\n",
    "\n",
    "            elif np.max(Iou) >= 0.4:\n",
    "                save_file = os.path.join(part_save_dir, \"%s.jpg\" % d_idx)\n",
    "                f3.write(save_file + ' -1 %.2f %.2f %.2f %.2f\\n' % (\n",
    "                    offset_x1, offset_y1, offset_x2, offset_y2))\n",
    "                img_save = Image.fromarray(resized_im)\n",
    "                img_save.save(save_file)\n",
    "                d_idx += 1\n",
    "f1.close()\n",
    "f2.close()\n",
    "f3.close()\n",
    "print()\n",
    "print(\"%s images done, pos: %s part: %s neg: %s\" % (image_idx, p_idx, d_idx, n_idx))"
   ]
  },
  {
   "cell_type": "code",
   "execution_count": 9,
   "metadata": {},
   "outputs": [
    {
     "name": "stdout",
     "output_type": "stream",
     "text": [
      "./anno_store/neg_48.txt\n",
      "./anno_store/part_48.txt\n",
      "./anno_store/pos_48.txt\n"
     ]
    },
    {
     "data": {
      "text/plain": [
       "16926"
      ]
     },
     "execution_count": 9,
     "metadata": {},
     "output_type": "execute_result"
    }
   ],
   "source": [
    "anno_list = ['./anno_store/neg_48.txt', './anno_store/part_48.txt', './anno_store/pos_48.txt']\n",
    "imglist_filename = './anno_store/imglist_anno_48.txt'\n",
    "chose_count = assemble_data(imglist_filename, anno_list)\n",
    "chose_count"
   ]
  },
  {
   "cell_type": "code",
   "execution_count": 10,
   "metadata": {},
   "outputs": [
    {
     "name": "stdout",
     "output_type": "stream",
     "text": [
      "100 images done, landmark images: 193\n",
      "200 images done, landmark images: 377\n",
      "300 images done, landmark images: 590\n",
      "400 images done, landmark images: 792\n",
      "500 images done, landmark images: 978\n",
      "600 images done, landmark images: 1195\n",
      "700 images done, landmark images: 1379\n",
      "800 images done, landmark images: 1572\n",
      "900 images done, landmark images: 1762\n",
      "1000 images done, landmark images: 1971\n",
      "1100 images done, landmark images: 2174\n",
      "1200 images done, landmark images: 2362\n",
      "1300 images done, landmark images: 2583\n",
      "1400 images done, landmark images: 2782\n",
      "1500 images done, landmark images: 2982\n",
      "1600 images done, landmark images: 3196\n",
      "1700 images done, landmark images: 3401\n",
      "1800 images done, landmark images: 3597\n",
      "1900 images done, landmark images: 3793\n",
      "2000 images done, landmark images: 3987\n",
      "2100 images done, landmark images: 4173\n",
      "2200 images done, landmark images: 4391\n",
      "2300 images done, landmark images: 4595\n",
      "2400 images done, landmark images: 4776\n",
      "2500 images done, landmark images: 4975\n",
      "2600 images done, landmark images: 5166\n",
      "2700 images done, landmark images: 5361\n",
      "2800 images done, landmark images: 5574\n",
      "2900 images done, landmark images: 5778\n",
      "3000 images done, landmark images: 5960\n",
      "3100 images done, landmark images: 6139\n",
      "3200 images done, landmark images: 6355\n",
      "3300 images done, landmark images: 6542\n",
      "3400 images done, landmark images: 6739\n",
      "3500 images done, landmark images: 6936\n",
      "3600 images done, landmark images: 7123\n",
      "3700 images done, landmark images: 7329\n",
      "3800 images done, landmark images: 7531\n",
      "3900 images done, landmark images: 7741\n",
      "4000 images done, landmark images: 7927\n",
      "4100 images done, landmark images: 8125\n",
      "4200 images done, landmark images: 8313\n",
      "4300 images done, landmark images: 8509\n",
      "4400 images done, landmark images: 8701\n",
      "4500 images done, landmark images: 8924\n",
      "4600 images done, landmark images: 9118\n",
      "4700 images done, landmark images: 9305\n",
      "4800 images done, landmark images: 9511\n",
      "4900 images done, landmark images: 9682\n",
      "\n",
      "4998 images done, landmark images: 9878\n"
     ]
    }
   ],
   "source": [
    "celeba_img_path = '/Users/shaotianyuan/DATA/CelebA/img_celeba/img_celeba'\n",
    "\n",
    "landmark_file = '/Users/shaotianyuan/DATA/CelebA/list_landmarks_celeba.txt'\n",
    "boxes_file = '/Users/shaotianyuan/DATA/CelebA/list_bbox_celeba.txt'\n",
    "\n",
    "anno_save = './anno_store/landmark_48.txt'\n",
    "traindata_save = './data_set/train/48/landmark'\n",
    "\n",
    "if not os.path.exists(traindata_save):\n",
    "    os.makedirs(traindata_save)\n",
    "\n",
    "f = open(anno_save, 'w')\n",
    "\n",
    "with open(landmark_file, 'r') as f1:\n",
    "    landmark_lines = f1.readlines()\n",
    "landmark_lines.pop(0)\n",
    "landmark_lines.pop(0)\n",
    "\n",
    "with open(boxes_file, 'r') as f2:\n",
    "    boxes_lines = f2.readlines()\n",
    "boxes_lines.pop(0)\n",
    "boxes_lines.pop(0)\n",
    "    \n",
    "idx = 0\n",
    "l_idx = 0\n",
    "\n",
    "for i in range(5000):\n",
    "    boxes = boxes_lines[i].strip().split(' ')\n",
    "    landmarks = landmark_lines[i].strip().split(' ')\n",
    "        \n",
    "    lines = boxes + landmarks[1:]\n",
    "    lines = [i for i in lines if i]\n",
    "    \n",
    "    img_path = os.path.join(celeba_img_path, lines[0])\n",
    "    img = cv2.imread(img_path)\n",
    "    height, width, channel = img.shape\n",
    "    \n",
    "    gt_box = np.array(lines[1: 5], dtype=np.int32)\n",
    "    x1, y1, w, h = gt_box\n",
    "    x2 = x1 + w - 1\n",
    "    y2 = y1 + h - 1\n",
    "    \n",
    "    if max(w, h) < 40 or x1 < 0 or y1 < 0:\n",
    "        continue\n",
    "    \n",
    "    \n",
    "    landmark = np.array(lines[5: ], dtype=np.float).reshape(-1, 2)\n",
    "\n",
    "    \n",
    "    idx += 1\n",
    "    if idx % 100 == 0:\n",
    "        print(\"%d images done, landmark images: %d\"%(idx,l_idx))\n",
    "\n",
    "    for i in range(10):\n",
    "        bbox_size = np.random.randint(int(min(w, h) * 0.8), np.ceil(1.25 * max(w, h)))\n",
    "        delta_x = np.random.randint(-w * 0.2, w * 0.2)\n",
    "        delta_y = np.random.randint(-h * 0.2, h * 0.2)\n",
    "        \n",
    "        nx1 = max(x1 + w / 2 - bbox_size / 2 + delta_x, 0)\n",
    "        ny1 = max(y1 + h / 2 - bbox_size / 2 + delta_y, 0)\n",
    "        nx2 = nx1 + bbox_size\n",
    "        ny2 = ny1 + bbox_size\n",
    "        if nx2 > width or ny2 > height:\n",
    "            continue\n",
    "            \n",
    "        crop_box = np.array([nx1, ny1, nx2, ny2])\n",
    "        cropped_im = img[int(ny1):int(ny2) + 1, int(nx1):int(nx2) + 1, :]\n",
    "        resized_im = cv2.resize(cropped_im, (48, 48),interpolation=cv2.INTER_LINEAR)\n",
    "        \n",
    "        offset_res = np.around(([x1, y1, x2, y2] - crop_box) / float(bbox_size), 3)\n",
    "        landmark_res = np.around((landmark - [nx1, ny1]) / float(bbox_size), 3)\n",
    "        \n",
    "        \n",
    "\n",
    "        iou = IoU(crop_box, np.array([[x1, y1, x2, y2]]))\n",
    "        \n",
    "        if iou > 0.65:\n",
    "            save_file = os.path.join(traindata_save, \"%s.jpg\" % l_idx)\n",
    "            cv2.imwrite(save_file, resized_im)\n",
    "\n",
    "            anno = [save_file] + [-2] + list(offset_res) + list(landmark_res.ravel()) + ['\\n']\n",
    "            anno = ' '.join([str(i) for i in anno])\n",
    "            f.writelines(anno)\n",
    "            l_idx += 1\n",
    "\n",
    "\n",
    "print()\n",
    "print(\"%d images done, landmark images: %d\"%(idx,l_idx))\n",
    "f.close()\n",
    "    \n",
    "\n"
   ]
  },
  {
   "cell_type": "code",
   "execution_count": 11,
   "metadata": {},
   "outputs": [
    {
     "name": "stdout",
     "output_type": "stream",
     "text": [
      "./anno_store/neg_48.txt\n",
      "./anno_store/part_48.txt\n",
      "./anno_store/pos_48.txt\n",
      "./anno_store/landmark_48.txt\n"
     ]
    },
    {
     "data": {
      "text/plain": [
       "26804"
      ]
     },
     "execution_count": 11,
     "metadata": {},
     "output_type": "execute_result"
    }
   ],
   "source": [
    "anno_list = ['./anno_store/neg_48.txt', './anno_store/part_48.txt', './anno_store/pos_48.txt', './anno_store/landmark_48.txt']\n",
    "imglist_filename = './anno_store/imglist_anno_48.txt'\n",
    "chose_count = assemble_data(imglist_filename, anno_list)\n",
    "chose_count"
   ]
  },
  {
   "cell_type": "code",
   "execution_count": 3,
   "metadata": {
    "collapsed": true,
    "jupyter": {
     "outputs_hidden": true
    }
   },
   "outputs": [
    {
     "ename": "NameError",
     "evalue": "name 'lines' is not defined",
     "output_type": "error",
     "traceback": [
      "\u001b[0;31m---------------------------------------------------------------------------\u001b[0m",
      "\u001b[0;31mNameError\u001b[0m                                 Traceback (most recent call last)",
      "\u001b[0;32m<ipython-input-3-af91bbb1fd07>\u001b[0m in \u001b[0;36m<module>\u001b[0;34m\u001b[0m\n\u001b[1;32m      1\u001b[0m \u001b[0mfig\u001b[0m\u001b[0;34m,\u001b[0m \u001b[0max\u001b[0m \u001b[0;34m=\u001b[0m \u001b[0mplt\u001b[0m\u001b[0;34m.\u001b[0m\u001b[0msubplots\u001b[0m\u001b[0;34m(\u001b[0m\u001b[0mfigsize\u001b[0m\u001b[0;34m=\u001b[0m\u001b[0;34m(\u001b[0m\u001b[0;36m20\u001b[0m\u001b[0;34m,\u001b[0m\u001b[0;36m10\u001b[0m\u001b[0;34m)\u001b[0m\u001b[0;34m)\u001b[0m\u001b[0;34m\u001b[0m\u001b[0;34m\u001b[0m\u001b[0m\n\u001b[0;32m----> 2\u001b[0;31m \u001b[0mlandmarks_X\u001b[0m \u001b[0;34m=\u001b[0m \u001b[0mlist\u001b[0m\u001b[0;34m(\u001b[0m\u001b[0mmap\u001b[0m\u001b[0;34m(\u001b[0m\u001b[0mint\u001b[0m\u001b[0;34m,\u001b[0m \u001b[0mlines\u001b[0m\u001b[0;34m[\u001b[0m\u001b[0;36m5\u001b[0m\u001b[0;34m:\u001b[0m\u001b[0;34m:\u001b[0m\u001b[0;36m2\u001b[0m\u001b[0;34m]\u001b[0m\u001b[0;34m)\u001b[0m\u001b[0;34m)\u001b[0m\u001b[0;34m\u001b[0m\u001b[0;34m\u001b[0m\u001b[0m\n\u001b[0m\u001b[1;32m      3\u001b[0m \u001b[0mlandmarks_Y\u001b[0m \u001b[0;34m=\u001b[0m \u001b[0mlist\u001b[0m\u001b[0;34m(\u001b[0m\u001b[0mmap\u001b[0m\u001b[0;34m(\u001b[0m\u001b[0mint\u001b[0m\u001b[0;34m,\u001b[0m \u001b[0mlines\u001b[0m\u001b[0;34m[\u001b[0m\u001b[0;36m6\u001b[0m\u001b[0;34m:\u001b[0m\u001b[0;34m:\u001b[0m\u001b[0;36m2\u001b[0m\u001b[0;34m]\u001b[0m\u001b[0;34m)\u001b[0m\u001b[0;34m)\u001b[0m\u001b[0;34m\u001b[0m\u001b[0;34m\u001b[0m\u001b[0m\n\u001b[1;32m      4\u001b[0m \u001b[0mimg\u001b[0m \u001b[0;34m=\u001b[0m \u001b[0mnp\u001b[0m\u001b[0;34m.\u001b[0m\u001b[0marray\u001b[0m\u001b[0;34m(\u001b[0m\u001b[0mimg\u001b[0m\u001b[0;34m)\u001b[0m\u001b[0;34m\u001b[0m\u001b[0;34m\u001b[0m\u001b[0m\n\u001b[1;32m      5\u001b[0m \u001b[0;34m\u001b[0m\u001b[0m\n",
      "\u001b[0;31mNameError\u001b[0m: name 'lines' is not defined"
     ]
    },
    {
     "data": {
      "image/png": "[encoded data removed]",
      "text/plain": [
       "<Figure size 1440x720 with 1 Axes>"
      ]
     },
     "metadata": {
      "needs_background": "light"
     },
     "output_type": "display_data"
    }
   ],
   "source": [
    "fig, ax = plt.subplots(figsize=(20,10))\n",
    "landmarks_X = list(map(int, lines[5::2]))\n",
    "landmarks_Y = list(map(int, lines[6::2]))\n",
    "img = np.array(Image.open(img_path))\n",
    "      \n",
    "ax.imshow(img)\n",
    "ax.scatter(landmarks_X, landmarks_Y, s=10, marker='.', c='r')\n",
    "x1, y1, x2, y2 = gt_box       \n",
    "rect = plt.Rectangle((x1, y1), x2, y2, linewidth=2, edgecolor='g', facecolor='none')\n",
    "ax.add_patch(rect)\n"
   ]
  },
  {
   "cell_type": "code",
   "execution_count": null,
   "metadata": {},
   "outputs": [],
   "source": []
  }
 ],
 "metadata": {
  "kernelspec": {
   "display_name": "Python 3",
   "language": "python",
   "name": "python3"
  },
  "language_info": {
   "codemirror_mode": {
    "name": "ipython",
    "version": 3
   },
   "file_extension": ".py",
   "mimetype": "text/x-python",
   "name": "python",
   "nbconvert_exporter": "python",
   "pygments_lexer": "ipython3",
   "version": "3.7.6"
  }
 },
 "nbformat": 4,
 "nbformat_minor": 4
}
