{
 "cells": [
  {
   "cell_type": "code",
   "execution_count": 1,
   "metadata": {},
   "outputs": [],
   "source": [
    "import cv2\n",
    "import sys\n",
    "import os\n",
    "import numpy as np\n",
    "import matplotlib.pyplot as plt\n",
    "import random\n",
    "from PIL import Image\n",
    "from core.utils import IoU, assemble_data, convert_to_square\n",
    "from core.models import creat_mtcnn_net\n",
    "from core.utils import generate_bounding_box, nms\n",
    "from core.detect import detect_pnet"
   ]
  },
  {
   "cell_type": "code",
   "execution_count": 2,
   "metadata": {},
   "outputs": [],
   "source": [
    "anno_file = '/Users/shaotianyuan/DATA/WIDER/wider_face_split/wider_face_train_bbx_gt.txt'\n",
    "im_dir = '/Users/shaotianyuan/DATA/WIDER/WIDER_train/images'\n",
    "\n",
    "pos_save_dir = './data_set/train/24/positive'\n",
    "part_save_dir = './data_set/train/24/part'\n",
    "neg_save_dir = './data_set/train/24/negative'\n",
    "\n",
    "if not os.path.exists(pos_save_dir):\n",
    "    os.makedirs(pos_save_dir)\n",
    "if not os.path.exists(part_save_dir):\n",
    "    os.mkdir(part_save_dir)\n",
    "if not os.path.exists(neg_save_dir):\n",
    "    os.mkdir(neg_save_dir)\n",
    "    \n",
    "f1 = open(os.path.join('./anno_store', 'pos_24.txt'), 'w')\n",
    "f2 = open(os.path.join('./anno_store', 'neg_24.txt'), 'w')\n",
    "f3 = open(os.path.join('./anno_store', 'part_24.txt'), 'w')\n",
    "\n",
    "\n",
    "p_idx = 0\n",
    "n_idx = 0\n",
    "d_idx = 0\n",
    "image_idx = 0\n",
    "box_idx = 0\n",
    "\n",
    "pnet_path = '/Users/shaotianyuan/PycharmProjects/face_detection/mtcnn/model_store/pnet.pkl'"
   ]
  },
  {
   "cell_type": "code",
   "execution_count": 3,
   "metadata": {},
   "outputs": [
    {
     "name": "stdout",
     "output_type": "stream",
     "text": [
      "12880\n",
      "[['0--Parade/0_Parade_marchingband_1_849.jpg', 1, 449, 330, 122, 149], ['0--Parade/0_Parade_Parade_0_904.jpg', 1, 361, 98, 263, 339]]\n"
     ]
    }
   ],
   "source": [
    "with open(anno_file) as f:\n",
    "    annotations = f.readlines()\n",
    "\n",
    "n = -1\n",
    "lines = []\n",
    "for annotation in annotations:\n",
    "    annotation = annotation.strip().split(' ')\n",
    "    if annotation[0][-3:] == 'jpg':\n",
    "        lines.append(annotation)\n",
    "        n += 1\n",
    "    else:\n",
    "        annotation = list(map(int, annotation))\n",
    "        lines[n].extend(annotation[:4])\n",
    "print(len(lines))\n",
    "print(lines[:2])"
   ]
  },
  {
   "cell_type": "code",
   "execution_count": 4,
   "metadata": {},
   "outputs": [
    {
     "name": "stdout",
     "output_type": "stream",
     "text": [
      "10 images done\n",
      "20 images done\n",
      "30 images done\n",
      "40 images done\n",
      "50 images done\n",
      "60 images done\n",
      "70 images done\n",
      "80 images done\n",
      "90 images done\n",
      "100 images done\n",
      "110 images done\n",
      "120 images done\n",
      "130 images done\n",
      "140 images done\n",
      "150 images done\n",
      "160 images done\n",
      "170 images done\n",
      "180 images done\n",
      "190 images done\n",
      "200 images done\n",
      "\n",
      "200 images done, pos: 2342 part: 14680 neg: 11954\n"
     ]
    }
   ],
   "source": [
    "for annotation in lines[:200]:\n",
    "    im_path = os.path.join(im_dir, annotation[0])\n",
    "    bbox = list(map(float, annotation[2:]))\n",
    "    boxes = np.array(bbox, dtype=np.int32).reshape(-1, 4)\n",
    "    boxes[:, 2] += boxes[:, 0] - 1\n",
    "    boxes[:, 3] += boxes[:, 1] - 1\n",
    "    \n",
    "    img = np.array(Image.open(im_path).convert('RGB'))\n",
    "    gts = boxes\n",
    "    _, dets = detect_pnet(img, pnet_path)\n",
    "    \n",
    "    image_idx += 1\n",
    "    if image_idx % 10 == 0:\n",
    "        print(image_idx, \"images done\")\n",
    "    \n",
    "    if dets is None or dets.shape[0] == 0:\n",
    "        continue\n",
    "  \n",
    "    dets = convert_to_square(dets)\n",
    "    dets[:, :4] = np.round(dets[:, :4])\n",
    "    \n",
    "    neg_num = 0\n",
    "    \n",
    "    for box in dets:\n",
    "        x_left, y_top, x_right, y_bottom, _ = box.astype(int)\n",
    "        width = x_right - x_left + 1\n",
    "        height = y_bottom - y_top + 1\n",
    "        \n",
    "        if width < 20 or x_left < 0 or y_top < 0 or x_right > img.shape[1] - 1 or y_bottom > img.shape[0] - 1:\n",
    "            continue\n",
    "            \n",
    "        Iou = IoU(box, gts)\n",
    "        cropped_im = img[y_top:y_bottom + 1, x_left:x_right + 1, :]\n",
    "        resized_im = cv2.resize(cropped_im, (24, 24), interpolation=cv2.INTER_LINEAR)\n",
    "        \n",
    "        if np.max(Iou) < 0.3 and neg_num < 60:\n",
    "            # save the examples\n",
    "            save_file = os.path.join(neg_save_dir, \"%s.jpg\" % n_idx)\n",
    "            # print(save_file)\n",
    "            f2.write(save_file + ' 0 %.2f %.2f %.2f %.2f\\n' % (0, 0, 0, 0))\n",
    "            img_save = Image.fromarray(resized_im)\n",
    "            img_save.save(save_file)\n",
    "            n_idx += 1\n",
    "            neg_num += 1\n",
    "        else:\n",
    "            # find gt_box with the highest iou\n",
    "            idx = np.argmax(Iou)\n",
    "            assigned_gt = gts[idx]\n",
    "            x1, y1, x2, y2 = assigned_gt\n",
    "\n",
    "            # compute bbox reg label\n",
    "            offset_x1 = (x1 - x_left) / float(width)\n",
    "            offset_y1 = (y1 - y_top) / float(height)\n",
    "            offset_x2 = (x2 - x_right) / float(width)\n",
    "            offset_y2 = (y2 - y_bottom) / float(height)\n",
    "\n",
    "            # save positive and part-face images and write labels\n",
    "            if np.max(Iou) >= 0.65:\n",
    "                save_file = os.path.join(pos_save_dir, \"%s.jpg\" % p_idx)\n",
    "                f1.write(save_file + ' 1 %.2f %.2f %.2f %.2f\\n' % (\n",
    "                    offset_x1, offset_y1, offset_x2, offset_y2))\n",
    "                img_save = Image.fromarray(resized_im)\n",
    "                img_save.save(save_file)\n",
    "                p_idx += 1\n",
    "\n",
    "            elif np.max(Iou) >= 0.4:\n",
    "                save_file = os.path.join(part_save_dir, \"%s.jpg\" % d_idx)\n",
    "                f3.write(save_file + ' -1 %.2f %.2f %.2f %.2f\\n' % (\n",
    "                    offset_x1, offset_y1, offset_x2, offset_y2))\n",
    "                img_save = Image.fromarray(resized_im)\n",
    "                img_save.save(save_file)\n",
    "                d_idx += 1\n",
    "f1.close()\n",
    "f2.close()\n",
    "f3.close()\n",
    "print()\n",
    "print(\"%s images done, pos: %s part: %s neg: %s\" % (image_idx, p_idx, d_idx, n_idx))"
   ]
  },
  {
   "cell_type": "code",
   "execution_count": 5,
   "metadata": {},
   "outputs": [
    {
     "name": "stdout",
     "output_type": "stream",
     "text": [
      "./anno_store/neg_24.txt\n",
      "./anno_store/part_24.txt\n",
      "./anno_store/pos_24.txt\n"
     ]
    },
    {
     "data": {
      "text/plain": [
       "28976"
      ]
     },
     "execution_count": 5,
     "metadata": {},
     "output_type": "execute_result"
    }
   ],
   "source": [
    "anno_list = ['./anno_store/neg_24.txt', './anno_store/part_24.txt', './anno_store/pos_24.txt']\n",
    "imglist_filename = './anno_store/imglist_anno_24.txt'\n",
    "chose_count = assemble_data(imglist_filename, anno_list)\n",
    "chose_count"
   ]
  },
  {
   "cell_type": "code",
   "execution_count": null,
   "metadata": {},
   "outputs": [],
   "source": []
  }
 ],
 "metadata": {
  "kernelspec": {
   "display_name": "Python 3",
   "language": "python",
   "name": "python3"
  },
  "language_info": {
   "codemirror_mode": {
    "name": "ipython",
    "version": 3
   },
   "file_extension": ".py",
   "mimetype": "text/x-python",
   "name": "python",
   "nbconvert_exporter": "python",
   "pygments_lexer": "ipython3",
   "version": "3.7.6"
  }
 },
 "nbformat": 4,
 "nbformat_minor": 4
}
